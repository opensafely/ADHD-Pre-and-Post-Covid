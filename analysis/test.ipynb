{
 "cells": [
  {
   "cell_type": "code",
   "execution_count": 33,
   "id": "9c5da54d",
   "metadata": {},
   "outputs": [],
   "source": [
    "import os\n",
    "import pandas as pd\n",
    "import numpy as np\n",
    "from datetime import (\n",
    "    datetime\n",
    ")\n",
    "from dateutil.relativedelta import relativedelta\n",
    "\n",
    "from table_wrangle_functions import (\n",
    "    add_datestamp\n",
    ")\n",
    "\n",
    "# Ensure the 'outputs' directory exists\n",
    "output_dir = \"output\"\n",
    "os.makedirs(output_dir, exist_ok=True)\n",
    "\n",
    "# Load the data\n",
    "adhd_medication_data = pd.read_csv(\"/workspaces/ADHD-Pre-and-Post-Covid/output/Patient_table_3_rolling_6month_incident.csv.gz\")\n",
    "\n",
    "# getting the month and year only\n",
    "adhd_medication_data['last_mph_med_date'] = (\n",
    "    pd.to_datetime(adhd_medication_data['last_mph_med_date'], format='%Y-%m-%d')\n",
    ")\n",
    "\n",
    "#This is a crude way of removing the day\n",
    "adhd_medication_data['last_mph_med_date_month_date'] = (\n",
    "    adhd_medication_data['last_mph_med_date'].apply(lambda x: x.strftime('%Y-%m'))\n",
    ")\n",
    "\n",
    "adhd_medication_data['last_mph_med_date_month_date'] = (\n",
    "    pd.to_datetime(adhd_medication_data['last_mph_med_date_month_date'], format='%Y-%m')\n",
    ")\n",
    "\n",
    "output = (\n",
    "    adhd_medication_data\n",
    "            .groupby(['last_mph_med_date_month_date','age_band','sex'],as_index=False).size()\n",
    ")\n"
   ]
  },
  {
   "cell_type": "code",
   "execution_count": 37,
   "id": "545c28d0",
   "metadata": {},
   "outputs": [],
   "source": [
    "from datetime import (\n",
    "    datetime\n",
    ")\n",
    "\n",
    "from dateutil import relativedelta\n",
    "\n",
    "def monthly_interval_list(start_date, end_date):\n",
    "    \n",
    "    #Differnce in months\n",
    "    delta = relativedelta.relativedelta(end_date, start_date)\n",
    "\n",
    "    res_months = delta.months + (delta.years * 12)\n",
    "\n",
    "    interval_array = [start_date + relativedelta.relativedelta(months=each_month) for each_month in range(res_months+1)]\n",
    "\n",
    "    return interval_array\n",
    "\n",
    "\n"
   ]
  },
  {
   "cell_type": "code",
   "execution_count": 74,
   "id": "c8290ecd",
   "metadata": {},
   "outputs": [],
   "source": [
    "dataframe = output.copy()\n",
    "date_column = 'last_mph_med_date_month_date'\n",
    "count_column = 'size'\n",
    "column_group = ['age_band','sex']\n",
    "rolling_col_name = 'rolling'\n",
    "\n"
   ]
  },
  {
   "cell_type": "code",
   "execution_count": null,
   "id": "77f24f7c",
   "metadata": {},
   "outputs": [],
   "source": [
    "#Need to get inputs\n",
    "date_interval = [min(dataframe[date_column]), max(dataframe[date_column])]\n",
    "unqiue_combination = dataframe[column_group].drop_duplicates(subset=column_group)\n",
    "\n",
    "list_of_dates = monthly_interval_list(date_interval[0], date_interval[1])\n",
    "list_of_dates.sort()\n",
    "\n",
    "#Create an empty dataframe with the dates\n",
    "rolling_template = pd.DataFrame( {date_column:list_of_dates})\n",
    "\n",
    "output_table_with_rolling = pd.DataFrame() \n",
    "\n",
    "#Need to get the vaules of each \n",
    "for each_index in unqiue_combination.index:\n",
    "\n",
    "    each_conbination = unqiue_combination.loc[[each_index],:]\n",
    "\n",
    "    each_conbination_dict = each_conbination.to_dict('records')[0]\n",
    "\n",
    "    # Getting the filtered vaules - Source: https://stackoverflow.com/questions/34157811/filter-a-pandas-dataframe-using-values-from-a-dict\n",
    "    filtred_group = dataframe.loc[(dataframe[list(each_conbination_dict)] == pd.Series(each_conbination_dict)).all(axis=1)]\n",
    "\n",
    "    #This is to for the join\n",
    "    cobination_to_join = filtred_group[[date_column,count_column]]\n",
    "\n",
    "    #This is join and fill in the missing vaule\n",
    "    each_roll = rolling_template.merge(\n",
    "        cobination_to_join,\n",
    "        how='left',\n",
    "        left_on=date_column,\n",
    "        right_on=date_column\n",
    "    ).fillna(0)\n",
    "\n",
    "    #Sort \n",
    "    each_roll = each_roll.sort_values(by=date_column)\n",
    "\n",
    "    #Need to the 6 month rolling\n",
    "    each_roll[rolling_col_name] = each_roll[count_column].rolling(6,min_periods = 1).sum()\n",
    "\n",
    "    # Add back the columns and values from each_conbination to each_roll\n",
    "    for col in each_conbination.columns:\n",
    "        each_roll[col] = each_conbination.iloc[0][col]\n",
    "\n",
    "    # Concatenate each_roll into empty_df\n",
    "    output_table_with_rolling = pd.concat([output_table_with_rolling, each_roll], ignore_index=True)\n",
    "\n"
   ]
  },
  {
   "cell_type": "code",
   "execution_count": 80,
   "id": "79886ef8",
   "metadata": {},
   "outputs": [
    {
     "data": {
      "application/vnd.microsoft.datawrangler.viewer.v0+json": {
       "columns": [
        {
         "name": "index",
         "rawType": "int64",
         "type": "integer"
        },
        {
         "name": "last_mph_med_date_month_date",
         "rawType": "datetime64[ns]",
         "type": "datetime"
        },
        {
         "name": "size",
         "rawType": "float64",
         "type": "float"
        },
        {
         "name": "rolling",
         "rawType": "float64",
         "type": "float"
        },
        {
         "name": "age_band",
         "rawType": "object",
         "type": "string"
        },
        {
         "name": "sex",
         "rawType": "object",
         "type": "string"
        }
       ],
       "ref": "fde6a01b-ade2-4bba-b131-3e7c1d49df07",
       "rows": [
        [
         "0",
         "2016-03-01 00:00:00",
         "1.0",
         "1.0",
         "0 to 9",
         "female"
        ],
        [
         "1",
         "2016-04-01 00:00:00",
         "0.0",
         "1.0",
         "0 to 9",
         "female"
        ],
        [
         "2",
         "2016-05-01 00:00:00",
         "0.0",
         "1.0",
         "0 to 9",
         "female"
        ],
        [
         "3",
         "2016-06-01 00:00:00",
         "0.0",
         "1.0",
         "0 to 9",
         "female"
        ],
        [
         "4",
         "2016-07-01 00:00:00",
         "0.0",
         "1.0",
         "0 to 9",
         "female"
        ],
        [
         "5",
         "2016-08-01 00:00:00",
         "0.0",
         "1.0",
         "0 to 9",
         "female"
        ],
        [
         "6",
         "2016-09-01 00:00:00",
         "0.0",
         "0.0",
         "0 to 9",
         "female"
        ],
        [
         "7",
         "2016-10-01 00:00:00",
         "0.0",
         "0.0",
         "0 to 9",
         "female"
        ],
        [
         "8",
         "2016-11-01 00:00:00",
         "1.0",
         "1.0",
         "0 to 9",
         "female"
        ],
        [
         "9",
         "2016-12-01 00:00:00",
         "0.0",
         "1.0",
         "0 to 9",
         "female"
        ],
        [
         "10",
         "2017-01-01 00:00:00",
         "0.0",
         "1.0",
         "0 to 9",
         "female"
        ],
        [
         "11",
         "2017-02-01 00:00:00",
         "0.0",
         "1.0",
         "0 to 9",
         "female"
        ],
        [
         "12",
         "2017-03-01 00:00:00",
         "0.0",
         "1.0",
         "0 to 9",
         "female"
        ],
        [
         "13",
         "2017-04-01 00:00:00",
         "0.0",
         "1.0",
         "0 to 9",
         "female"
        ],
        [
         "14",
         "2017-05-01 00:00:00",
         "0.0",
         "0.0",
         "0 to 9",
         "female"
        ],
        [
         "15",
         "2017-06-01 00:00:00",
         "0.0",
         "0.0",
         "0 to 9",
         "female"
        ],
        [
         "16",
         "2017-07-01 00:00:00",
         "0.0",
         "0.0",
         "0 to 9",
         "female"
        ],
        [
         "17",
         "2017-08-01 00:00:00",
         "0.0",
         "0.0",
         "0 to 9",
         "female"
        ],
        [
         "18",
         "2017-09-01 00:00:00",
         "0.0",
         "0.0",
         "0 to 9",
         "female"
        ],
        [
         "19",
         "2017-10-01 00:00:00",
         "0.0",
         "0.0",
         "0 to 9",
         "female"
        ],
        [
         "20",
         "2017-11-01 00:00:00",
         "0.0",
         "0.0",
         "0 to 9",
         "female"
        ],
        [
         "21",
         "2017-12-01 00:00:00",
         "0.0",
         "0.0",
         "0 to 9",
         "female"
        ],
        [
         "22",
         "2018-01-01 00:00:00",
         "0.0",
         "0.0",
         "0 to 9",
         "female"
        ],
        [
         "23",
         "2018-02-01 00:00:00",
         "0.0",
         "0.0",
         "0 to 9",
         "female"
        ],
        [
         "24",
         "2018-03-01 00:00:00",
         "0.0",
         "0.0",
         "0 to 9",
         "female"
        ],
        [
         "25",
         "2018-04-01 00:00:00",
         "0.0",
         "0.0",
         "0 to 9",
         "female"
        ],
        [
         "26",
         "2018-05-01 00:00:00",
         "1.0",
         "1.0",
         "0 to 9",
         "female"
        ],
        [
         "27",
         "2018-06-01 00:00:00",
         "1.0",
         "2.0",
         "0 to 9",
         "female"
        ],
        [
         "28",
         "2018-07-01 00:00:00",
         "0.0",
         "2.0",
         "0 to 9",
         "female"
        ],
        [
         "29",
         "2018-08-01 00:00:00",
         "0.0",
         "2.0",
         "0 to 9",
         "female"
        ],
        [
         "30",
         "2018-09-01 00:00:00",
         "1.0",
         "3.0",
         "0 to 9",
         "female"
        ],
        [
         "31",
         "2018-10-01 00:00:00",
         "1.0",
         "4.0",
         "0 to 9",
         "female"
        ],
        [
         "32",
         "2018-11-01 00:00:00",
         "0.0",
         "3.0",
         "0 to 9",
         "female"
        ],
        [
         "33",
         "2018-12-01 00:00:00",
         "1.0",
         "3.0",
         "0 to 9",
         "female"
        ],
        [
         "34",
         "2019-01-01 00:00:00",
         "0.0",
         "3.0",
         "0 to 9",
         "female"
        ],
        [
         "35",
         "2019-02-01 00:00:00",
         "0.0",
         "3.0",
         "0 to 9",
         "female"
        ],
        [
         "36",
         "2019-03-01 00:00:00",
         "0.0",
         "2.0",
         "0 to 9",
         "female"
        ],
        [
         "37",
         "2019-04-01 00:00:00",
         "0.0",
         "1.0",
         "0 to 9",
         "female"
        ],
        [
         "38",
         "2019-05-01 00:00:00",
         "1.0",
         "2.0",
         "0 to 9",
         "female"
        ],
        [
         "39",
         "2019-06-01 00:00:00",
         "0.0",
         "1.0",
         "0 to 9",
         "female"
        ],
        [
         "40",
         "2019-07-01 00:00:00",
         "0.0",
         "1.0",
         "0 to 9",
         "female"
        ],
        [
         "41",
         "2019-08-01 00:00:00",
         "4.0",
         "5.0",
         "0 to 9",
         "female"
        ],
        [
         "42",
         "2019-09-01 00:00:00",
         "0.0",
         "5.0",
         "0 to 9",
         "female"
        ],
        [
         "43",
         "2019-10-01 00:00:00",
         "0.0",
         "5.0",
         "0 to 9",
         "female"
        ],
        [
         "44",
         "2019-11-01 00:00:00",
         "1.0",
         "5.0",
         "0 to 9",
         "female"
        ],
        [
         "45",
         "2019-12-01 00:00:00",
         "1.0",
         "6.0",
         "0 to 9",
         "female"
        ],
        [
         "46",
         "2020-01-01 00:00:00",
         "1.0",
         "7.0",
         "0 to 9",
         "female"
        ],
        [
         "47",
         "2020-02-01 00:00:00",
         "0.0",
         "3.0",
         "0 to 9",
         "female"
        ],
        [
         "48",
         "2020-03-01 00:00:00",
         "1.0",
         "4.0",
         "0 to 9",
         "female"
        ],
        [
         "49",
         "2020-04-01 00:00:00",
         "0.0",
         "4.0",
         "0 to 9",
         "female"
        ]
       ],
       "shape": {
        "columns": 5,
        "rows": 224
       }
      },
      "text/html": [
       "<div>\n",
       "<style scoped>\n",
       "    .dataframe tbody tr th:only-of-type {\n",
       "        vertical-align: middle;\n",
       "    }\n",
       "\n",
       "    .dataframe tbody tr th {\n",
       "        vertical-align: top;\n",
       "    }\n",
       "\n",
       "    .dataframe thead th {\n",
       "        text-align: right;\n",
       "    }\n",
       "</style>\n",
       "<table border=\"1\" class=\"dataframe\">\n",
       "  <thead>\n",
       "    <tr style=\"text-align: right;\">\n",
       "      <th></th>\n",
       "      <th>last_mph_med_date_month_date</th>\n",
       "      <th>size</th>\n",
       "      <th>rolling</th>\n",
       "      <th>age_band</th>\n",
       "      <th>sex</th>\n",
       "    </tr>\n",
       "  </thead>\n",
       "  <tbody>\n",
       "    <tr>\n",
       "      <th>0</th>\n",
       "      <td>2016-03-01</td>\n",
       "      <td>1.0</td>\n",
       "      <td>1.0</td>\n",
       "      <td>0 to 9</td>\n",
       "      <td>female</td>\n",
       "    </tr>\n",
       "    <tr>\n",
       "      <th>1</th>\n",
       "      <td>2016-04-01</td>\n",
       "      <td>0.0</td>\n",
       "      <td>1.0</td>\n",
       "      <td>0 to 9</td>\n",
       "      <td>female</td>\n",
       "    </tr>\n",
       "    <tr>\n",
       "      <th>2</th>\n",
       "      <td>2016-05-01</td>\n",
       "      <td>0.0</td>\n",
       "      <td>1.0</td>\n",
       "      <td>0 to 9</td>\n",
       "      <td>female</td>\n",
       "    </tr>\n",
       "    <tr>\n",
       "      <th>3</th>\n",
       "      <td>2016-06-01</td>\n",
       "      <td>0.0</td>\n",
       "      <td>1.0</td>\n",
       "      <td>0 to 9</td>\n",
       "      <td>female</td>\n",
       "    </tr>\n",
       "    <tr>\n",
       "      <th>4</th>\n",
       "      <td>2016-07-01</td>\n",
       "      <td>0.0</td>\n",
       "      <td>1.0</td>\n",
       "      <td>0 to 9</td>\n",
       "      <td>female</td>\n",
       "    </tr>\n",
       "    <tr>\n",
       "      <th>...</th>\n",
       "      <td>...</td>\n",
       "      <td>...</td>\n",
       "      <td>...</td>\n",
       "      <td>...</td>\n",
       "      <td>...</td>\n",
       "    </tr>\n",
       "    <tr>\n",
       "      <th>219</th>\n",
       "      <td>2025-02-01</td>\n",
       "      <td>33.0</td>\n",
       "      <td>113.0</td>\n",
       "      <td>0 to 9</td>\n",
       "      <td>male</td>\n",
       "    </tr>\n",
       "    <tr>\n",
       "      <th>220</th>\n",
       "      <td>2025-03-01</td>\n",
       "      <td>37.0</td>\n",
       "      <td>141.0</td>\n",
       "      <td>0 to 9</td>\n",
       "      <td>male</td>\n",
       "    </tr>\n",
       "    <tr>\n",
       "      <th>221</th>\n",
       "      <td>2025-04-01</td>\n",
       "      <td>43.0</td>\n",
       "      <td>166.0</td>\n",
       "      <td>0 to 9</td>\n",
       "      <td>male</td>\n",
       "    </tr>\n",
       "    <tr>\n",
       "      <th>222</th>\n",
       "      <td>2025-05-01</td>\n",
       "      <td>50.0</td>\n",
       "      <td>198.0</td>\n",
       "      <td>0 to 9</td>\n",
       "      <td>male</td>\n",
       "    </tr>\n",
       "    <tr>\n",
       "      <th>223</th>\n",
       "      <td>2025-06-01</td>\n",
       "      <td>56.0</td>\n",
       "      <td>239.0</td>\n",
       "      <td>0 to 9</td>\n",
       "      <td>male</td>\n",
       "    </tr>\n",
       "  </tbody>\n",
       "</table>\n",
       "<p>224 rows × 5 columns</p>\n",
       "</div>"
      ],
      "text/plain": [
       "    last_mph_med_date_month_date  size  rolling age_band     sex\n",
       "0                     2016-03-01   1.0      1.0   0 to 9  female\n",
       "1                     2016-04-01   0.0      1.0   0 to 9  female\n",
       "2                     2016-05-01   0.0      1.0   0 to 9  female\n",
       "3                     2016-06-01   0.0      1.0   0 to 9  female\n",
       "4                     2016-07-01   0.0      1.0   0 to 9  female\n",
       "..                           ...   ...      ...      ...     ...\n",
       "219                   2025-02-01  33.0    113.0   0 to 9    male\n",
       "220                   2025-03-01  37.0    141.0   0 to 9    male\n",
       "221                   2025-04-01  43.0    166.0   0 to 9    male\n",
       "222                   2025-05-01  50.0    198.0   0 to 9    male\n",
       "223                   2025-06-01  56.0    239.0   0 to 9    male\n",
       "\n",
       "[224 rows x 5 columns]"
      ]
     },
     "execution_count": 80,
     "metadata": {},
     "output_type": "execute_result"
    }
   ],
   "source": [
    "output_table_with_rolling"
   ]
  },
  {
   "cell_type": "code",
   "execution_count": 60,
   "id": "f184a77b",
   "metadata": {},
   "outputs": [
    {
     "data": {
      "application/vnd.microsoft.datawrangler.viewer.v0+json": {
       "columns": [
        {
         "name": "index",
         "rawType": "int64",
         "type": "integer"
        },
        {
         "name": "last_mph_med_date_month_date",
         "rawType": "datetime64[ns]",
         "type": "datetime"
        },
        {
         "name": "size",
         "rawType": "int64",
         "type": "integer"
        }
       ],
       "ref": "843ef4c4-e49b-4e7b-a73e-ab9df3743901",
       "rows": [
        [
         "0",
         "2016-03-01 00:00:00",
         "1"
        ],
        [
         "2",
         "2016-11-01 00:00:00",
         "1"
        ],
        [
         "12",
         "2018-05-01 00:00:00",
         "1"
        ],
        [
         "13",
         "2018-06-01 00:00:00",
         "1"
        ],
        [
         "14",
         "2018-09-01 00:00:00",
         "1"
        ],
        [
         "16",
         "2018-10-01 00:00:00",
         "1"
        ],
        [
         "17",
         "2018-12-01 00:00:00",
         "1"
        ],
        [
         "19",
         "2019-05-01 00:00:00",
         "1"
        ],
        [
         "22",
         "2019-08-01 00:00:00",
         "4"
        ],
        [
         "25",
         "2019-11-01 00:00:00",
         "1"
        ],
        [
         "26",
         "2019-12-01 00:00:00",
         "1"
        ],
        [
         "27",
         "2020-01-01 00:00:00",
         "1"
        ],
        [
         "28",
         "2020-03-01 00:00:00",
         "1"
        ],
        [
         "30",
         "2020-05-01 00:00:00",
         "1"
        ],
        [
         "32",
         "2020-06-01 00:00:00",
         "1"
        ],
        [
         "33",
         "2020-07-01 00:00:00",
         "2"
        ],
        [
         "35",
         "2020-09-01 00:00:00",
         "1"
        ],
        [
         "36",
         "2020-11-01 00:00:00",
         "2"
        ],
        [
         "37",
         "2020-12-01 00:00:00",
         "3"
        ],
        [
         "39",
         "2021-01-01 00:00:00",
         "5"
        ],
        [
         "40",
         "2021-02-01 00:00:00",
         "1"
        ],
        [
         "42",
         "2021-03-01 00:00:00",
         "2"
        ],
        [
         "43",
         "2021-04-01 00:00:00",
         "2"
        ],
        [
         "45",
         "2021-05-01 00:00:00",
         "1"
        ],
        [
         "46",
         "2021-06-01 00:00:00",
         "3"
        ],
        [
         "48",
         "2021-08-01 00:00:00",
         "3"
        ],
        [
         "49",
         "2021-09-01 00:00:00",
         "1"
        ],
        [
         "51",
         "2021-10-01 00:00:00",
         "2"
        ],
        [
         "53",
         "2021-11-01 00:00:00",
         "2"
        ],
        [
         "55",
         "2021-12-01 00:00:00",
         "4"
        ],
        [
         "57",
         "2022-01-01 00:00:00",
         "3"
        ],
        [
         "58",
         "2022-02-01 00:00:00",
         "1"
        ],
        [
         "60",
         "2022-03-01 00:00:00",
         "2"
        ],
        [
         "62",
         "2022-04-01 00:00:00",
         "2"
        ],
        [
         "64",
         "2022-05-01 00:00:00",
         "2"
        ],
        [
         "66",
         "2022-06-01 00:00:00",
         "2"
        ],
        [
         "68",
         "2022-07-01 00:00:00",
         "1"
        ],
        [
         "70",
         "2022-08-01 00:00:00",
         "3"
        ],
        [
         "72",
         "2022-09-01 00:00:00",
         "3"
        ],
        [
         "74",
         "2022-10-01 00:00:00",
         "4"
        ],
        [
         "76",
         "2022-11-01 00:00:00",
         "6"
        ],
        [
         "78",
         "2022-12-01 00:00:00",
         "2"
        ],
        [
         "80",
         "2023-01-01 00:00:00",
         "1"
        ],
        [
         "82",
         "2023-02-01 00:00:00",
         "1"
        ],
        [
         "84",
         "2023-03-01 00:00:00",
         "5"
        ],
        [
         "86",
         "2023-04-01 00:00:00",
         "3"
        ],
        [
         "88",
         "2023-05-01 00:00:00",
         "2"
        ],
        [
         "90",
         "2023-06-01 00:00:00",
         "9"
        ],
        [
         "92",
         "2023-07-01 00:00:00",
         "1"
        ],
        [
         "94",
         "2023-08-01 00:00:00",
         "5"
        ]
       ],
       "shape": {
        "columns": 2,
        "rows": 72
       }
      },
      "text/html": [
       "<div>\n",
       "<style scoped>\n",
       "    .dataframe tbody tr th:only-of-type {\n",
       "        vertical-align: middle;\n",
       "    }\n",
       "\n",
       "    .dataframe tbody tr th {\n",
       "        vertical-align: top;\n",
       "    }\n",
       "\n",
       "    .dataframe thead th {\n",
       "        text-align: right;\n",
       "    }\n",
       "</style>\n",
       "<table border=\"1\" class=\"dataframe\">\n",
       "  <thead>\n",
       "    <tr style=\"text-align: right;\">\n",
       "      <th></th>\n",
       "      <th>last_mph_med_date_month_date</th>\n",
       "      <th>size</th>\n",
       "    </tr>\n",
       "  </thead>\n",
       "  <tbody>\n",
       "    <tr>\n",
       "      <th>0</th>\n",
       "      <td>2016-03-01</td>\n",
       "      <td>1</td>\n",
       "    </tr>\n",
       "    <tr>\n",
       "      <th>2</th>\n",
       "      <td>2016-11-01</td>\n",
       "      <td>1</td>\n",
       "    </tr>\n",
       "    <tr>\n",
       "      <th>12</th>\n",
       "      <td>2018-05-01</td>\n",
       "      <td>1</td>\n",
       "    </tr>\n",
       "    <tr>\n",
       "      <th>13</th>\n",
       "      <td>2018-06-01</td>\n",
       "      <td>1</td>\n",
       "    </tr>\n",
       "    <tr>\n",
       "      <th>14</th>\n",
       "      <td>2018-09-01</td>\n",
       "      <td>1</td>\n",
       "    </tr>\n",
       "    <tr>\n",
       "      <th>...</th>\n",
       "      <td>...</td>\n",
       "      <td>...</td>\n",
       "    </tr>\n",
       "    <tr>\n",
       "      <th>130</th>\n",
       "      <td>2025-02-01</td>\n",
       "      <td>23</td>\n",
       "    </tr>\n",
       "    <tr>\n",
       "      <th>132</th>\n",
       "      <td>2025-03-01</td>\n",
       "      <td>21</td>\n",
       "    </tr>\n",
       "    <tr>\n",
       "      <th>134</th>\n",
       "      <td>2025-04-01</td>\n",
       "      <td>36</td>\n",
       "    </tr>\n",
       "    <tr>\n",
       "      <th>136</th>\n",
       "      <td>2025-05-01</td>\n",
       "      <td>36</td>\n",
       "    </tr>\n",
       "    <tr>\n",
       "      <th>138</th>\n",
       "      <td>2025-06-01</td>\n",
       "      <td>45</td>\n",
       "    </tr>\n",
       "  </tbody>\n",
       "</table>\n",
       "<p>72 rows × 2 columns</p>\n",
       "</div>"
      ],
      "text/plain": [
       "    last_mph_med_date_month_date  size\n",
       "0                     2016-03-01     1\n",
       "2                     2016-11-01     1\n",
       "12                    2018-05-01     1\n",
       "13                    2018-06-01     1\n",
       "14                    2018-09-01     1\n",
       "..                           ...   ...\n",
       "130                   2025-02-01    23\n",
       "132                   2025-03-01    21\n",
       "134                   2025-04-01    36\n",
       "136                   2025-05-01    36\n",
       "138                   2025-06-01    45\n",
       "\n",
       "[72 rows x 2 columns]"
      ]
     },
     "execution_count": 60,
     "metadata": {},
     "output_type": "execute_result"
    }
   ],
   "source": [
    "cobination_to_join"
   ]
  },
  {
   "cell_type": "code",
   "execution_count": null,
   "id": "15d780ee",
   "metadata": {},
   "outputs": [],
   "source": []
  }
 ],
 "metadata": {
  "kernelspec": {
   "display_name": "venv",
   "language": "python",
   "name": "python3"
  },
  "language_info": {
   "codemirror_mode": {
    "name": "ipython",
    "version": 3
   },
   "file_extension": ".py",
   "mimetype": "text/x-python",
   "name": "python",
   "nbconvert_exporter": "python",
   "pygments_lexer": "ipython3",
   "version": "3.10.17"
  }
 },
 "nbformat": 4,
 "nbformat_minor": 5
}
