{
 "cells": [
  {
   "cell_type": "code",
   "execution_count": 11,
   "id": "9c5da54d",
   "metadata": {},
   "outputs": [],
   "source": [
    "import os\n",
    "import pandas as pd\n",
    "import numpy as np\n",
    "import datetime\n",
    "from dateutil.relativedelta import relativedelta\n",
    "\n",
    "from table_wrangle_functions import (\n",
    "    add_datestamp\n",
    ")\n",
    "\n",
    "# Ensure the 'outputs' directory exists\n",
    "output_dir = \"output\"\n",
    "os.makedirs(output_dir, exist_ok=True)\n",
    "\n",
    "# Load the data\n",
    "adhd_medication_data = pd.read_csv(\"/workspaces/ADHD-Pre-and-Post-Covid/output/Patient_table_3_rolling_6month_incident.csv.gz\")\n",
    "\n",
    "# getting the month and year only\n",
    "adhd_medication_data['last_mph_med_date'] = (\n",
    "    pd.to_datetime(adhd_medication_data['last_mph_med_date'], format='%Y-%m-%d')\n",
    ")\n",
    "\n",
    "adhd_medication_data['last_mph_med_date_month_date'] = (\n",
    "    adhd_medication_data['last_mph_med_date'].apply(lambda x: x.strftime('%Y-%m'))\n",
    ")\n",
    "\n",
    "output = (\n",
    "    adhd_medication_data\n",
    "            .groupby(['last_mph_med_date_month_date','age_band','sex'],as_index=False).size()\n",
    ")"
   ]
  },
  {
   "cell_type": "code",
   "execution_count": 37,
   "id": "eeab06f4",
   "metadata": {},
   "outputs": [
    {
     "data": {
      "text/plain": [
       "datetime.datetime(2016, 3, 1, 0, 0)"
      ]
     },
     "execution_count": 37,
     "metadata": {},
     "output_type": "execute_result"
    }
   ],
   "source": [
    "datetime.strptime(min(output['last_mph_med_date_month_date']), '%Y-%m')"
   ]
  },
  {
   "cell_type": "code",
   "execution_count": 53,
   "id": "545c28d0",
   "metadata": {},
   "outputs": [
    {
     "name": "stdout",
     "output_type": "stream",
     "text": [
      "2016-03-01 00:00:00\n",
      "2016-03-01 00:00:00\n",
      "2025-06-01 00:00:00\n",
      "2025-06-01 00:00:00\n"
     ]
    }
   ],
   "source": [
    "from datetime import (\n",
    "    datetime\n",
    ")\n",
    "\n",
    "from dateutil import relativedelta\n",
    "\n",
    "def monthly_interval_list(start_date, end_date):\n",
    "    \n",
    "    #Differnce in months\n",
    "    delta = relativedelta.relativedelta(end_date, start_date)\n",
    "\n",
    "    res_months = delta.months + (delta.years * 12)\n",
    "\n",
    "    interval_array = [start_date + relativedelta.relativedelta(months=each_month) for each_month in range(res_months+1)]\n",
    "\n",
    "    return interval_array\n",
    "\n",
    "start_date = datetime.strptime(min(output['last_mph_med_date_month_date']), '%Y-%m')\n",
    "end_date = datetime.strptime(max(output['last_mph_med_date_month_date']), '%Y-%m')\n",
    "\n",
    "tmp = monthly_interval_list(start_date,end_date)\n",
    "print(tmp[0])\n",
    "print(start_date)\n",
    "print(tmp[-1])\n",
    "print(end_date)\n",
    "\n"
   ]
  },
  {
   "cell_type": "code",
   "execution_count": 14,
   "id": "c8290ecd",
   "metadata": {},
   "outputs": [],
   "source": [
    "dataframe = output.copy()\n",
    "date_column = 'last_mph_med_date_month_date'\n",
    "#date_interval =\n",
    "column_group = ['age_band','sex']"
   ]
  },
  {
   "cell_type": "code",
   "execution_count": null,
   "id": "77f24f7c",
   "metadata": {},
   "outputs": [
    {
     "name": "stdout",
     "output_type": "stream",
     "text": [
      "    last_mph_med_date_month_date age_band     sex  size\n",
      "0                        2016-03   0 to 9  female     1\n",
      "2                        2016-11   0 to 9  female     1\n",
      "12                       2018-05   0 to 9  female     1\n",
      "13                       2018-06   0 to 9  female     1\n",
      "14                       2018-09   0 to 9  female     1\n",
      "..                           ...      ...     ...   ...\n",
      "130                      2025-02   0 to 9  female    23\n",
      "132                      2025-03   0 to 9  female    21\n",
      "134                      2025-04   0 to 9  female    36\n",
      "136                      2025-05   0 to 9  female    36\n",
      "138                      2025-06   0 to 9  female    45\n",
      "\n",
      "[72 rows x 4 columns]\n",
      "    last_mph_med_date_month_date age_band   sex  size\n",
      "1                        2016-09   0 to 9  male     1\n",
      "3                        2017-02   0 to 9  male     2\n",
      "4                        2017-03   0 to 9  male     1\n",
      "5                        2017-04   0 to 9  male     1\n",
      "6                        2017-09   0 to 9  male     1\n",
      "..                           ...      ...   ...   ...\n",
      "131                      2025-02   0 to 9  male    33\n",
      "133                      2025-03   0 to 9  male    37\n",
      "135                      2025-04   0 to 9  male    43\n",
      "137                      2025-05   0 to 9  male    50\n",
      "139                      2025-06   0 to 9  male    56\n",
      "\n",
      "[68 rows x 4 columns]\n"
     ]
    }
   ],
   "source": [
    "unqiue_combination = dataframe[column_group].drop_duplicates(subset=column_group)\n",
    "\n",
    "#Need to get the vaules of each \n",
    "for each_index in unqiue_combination.index:\n",
    "    \n",
    "    each_conbination = unqiue_combination.iloc[[each_index],:]\n",
    "\n",
    "    each_conbination_dict = each_conbination.to_dict('records')[0]\n",
    "\n",
    "    #Getting the filtered vaules - Source: https://stackoverflow.com/questions/34157811/filter-a-pandas-dataframe-using-values-from-a-dict\n",
    "    dataframe.loc[(dataframe[list(each_conbination_dict)] == pd.Series(each_conbination_dict)).all(axis=1)]\n",
    "\n",
    "    #Need to vo\n"
   ]
  },
  {
   "cell_type": "code",
   "execution_count": null,
   "id": "79886ef8",
   "metadata": {},
   "outputs": [],
   "source": []
  }
 ],
 "metadata": {
  "kernelspec": {
   "display_name": "venv",
   "language": "python",
   "name": "python3"
  },
  "language_info": {
   "name": "python",
   "version": "3.10.17"
  }
 },
 "nbformat": 4,
 "nbformat_minor": 5
}
